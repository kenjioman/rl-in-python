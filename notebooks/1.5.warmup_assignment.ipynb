{
 "cells": [
  {
   "cell_type": "markdown",
   "metadata": {},
   "source": [
    "# Section 1.5 Warmup Assignment\n",
    "* Generate linear regression data\n",
    "* Find optimal model parameters using gradient descent\n",
    "* Choose a good learning rate/ # of iterations\n",
    "* Plot the loss per iteration"
   ]
  },
  {
   "cell_type": "code",
   "execution_count": 1,
   "metadata": {},
   "outputs": [],
   "source": [
    "from dataclasses import dataclass\n",
    "\n",
    "import numpy as np\n",
    "import matplotlib.pyplot as plt\n",
    "%matplotlib inline"
   ]
  },
  {
   "cell_type": "code",
   "execution_count": 2,
   "metadata": {},
   "outputs": [],
   "source": [
    "@dataclass(frozen=True)\n",
    "class LinearParams:\n",
    "    \"\"\"Class for keeping track of linear regression parameters\"\"\"\n",
    "    n_values: int = 100\n",
    "    x_scaling: float = 100.\n",
    "    x_offset: float = 0.\n",
    "    slope: float = 5\n",
    "    intercept: float = -20\n",
    "    noise_mean: float = 0\n",
    "    noise_std: float = 30\n",
    "        \n",
    "@dataclass(frozen=True)\n",
    "class LinearData:\n",
    "    \"\"\"Class to track linear regression data\"\"\"\n",
    "    x_values: np.array\n",
    "    y_values: np.array\n",
    "    y_noise: np.array\n",
    "    params: LinearParams"
   ]
  },
  {
   "cell_type": "code",
   "execution_count": 12,
   "metadata": {},
   "outputs": [],
   "source": [
    "def generate_data(params: LinearParams = LinearParams(), seed=10):\n",
    "    np.random.seed(seed)\n",
    "    actual_x = np.sort(np.random.rand(params.n_values, 1) * params.x_scaling, axis=0) + params.x_offset\n",
    "    y_noise = np.random.normal(loc=params.noise_mean, scale=params.noise_std, size=(params.n_values, 1))\n",
    "    actual_y = params.slope * actual_x + params.intercept + y_noise\n",
    "\n",
    "    plt.plot(actual_x, actual_y, '.')\n",
    "    plt.title('Generated Data')\n",
    "    plt.xlabel('X vals')\n",
    "    plt.ylabel('Y vals')\n",
    "    plt.show()\n",
    "    \n",
    "    return LinearData(actual_x, actual_y, y_noise, params)"
   ]
  },
  {
   "cell_type": "code",
   "execution_count": 13,
   "metadata": {},
   "outputs": [
    {
     "data": {
      "image/png": "[encoded data removed]",
      "text/plain": [
       "<Figure size 432x288 with 1 Axes>"
      ]
     },
     "metadata": {
      "needs_background": "light"
     },
     "output_type": "display_data"
    }
   ],
   "source": [
    "generated_data = generate_data()"
   ]
  },
  {
   "cell_type": "code",
   "execution_count": 14,
   "metadata": {},
   "outputs": [
    {
     "data": {
      "text/plain": [
       "array([[0.39482663],\n",
       "       [2.07519494],\n",
       "       [2.53997821],\n",
       "       [3.92817672],\n",
       "       [3.99592087],\n",
       "       [4.30973562],\n",
       "       [4.68963194],\n",
       "       [6.42510607],\n",
       "       [7.96130902],\n",
       "       [8.83398142]])"
      ]
     },
     "execution_count": 14,
     "metadata": {},
     "output_type": "execute_result"
    }
   ],
   "source": [
    "generated_data.x_values[:10]"
   ]
  },
  {
   "cell_type": "code",
   "execution_count": 23,
   "metadata": {},
   "outputs": [
    {
     "data": {
      "text/plain": [
       "(100, 2)"
      ]
     },
     "execution_count": 23,
     "metadata": {},
     "output_type": "execute_result"
    }
   ],
   "source": [
    "np.concatenate((np.ones((generated_data.params.n_values, 1)), generated_data.x_values), axis=1).shape"
   ]
  },
  {
   "cell_type": "code",
   "execution_count": 51,
   "metadata": {},
   "outputs": [],
   "source": [
    "class LinearRegressor:\n",
    "\n",
    "    @classmethod\n",
    "    def fit(cls, data: LinearData, learning_rate=0.2, iterations=100, seed=None):\n",
    "        if seed is not None:\n",
    "            np.random.seed(seed)\n",
    "        X = np.concatenate((np.ones((data.params.n_values, 1)), data.x_values), axis=1)\n",
    "        weights = np.random.rand(2, 1)\n",
    "        \n",
    "        #print(f'Starting weights: {weights}')\n",
    "\n",
    "        mse = list()\n",
    "        for i in range(iterations):\n",
    "            predicted_y = X.dot(weights)\n",
    "            error = cls._calculate_mse(data.y_values, predicted_y)\n",
    "            mse.append(error)\n",
    "            d_weight = cls._calculate_mse_gradient(data.y_values, X, weights)\n",
    "            weights = weights - learning_rate*d_weight\n",
    "            \n",
    "            #print(f'rmse: {error} d_weight: {d_weight} weights: {weights}')\n",
    "            \n",
    "        plt.plot(np.arange(1, iterations+1), mse)\n",
    "        plt.show()\n",
    "            \n",
    "        return weights, rmse\n",
    "        \n",
    "    @staticmethod\n",
    "    def _calculate_mse(actual_y, predicted_y):\n",
    "        return np.square(actual_y - predicted_y).mean()\n",
    "    \n",
    "    @staticmethod\n",
    "    def _calculate_mse_gradient(actual_y, X, weights):\n",
    "        return 2 * np.dot(X.T, (X.dot(weights) - actual_y)) / X.shape[0]"
   ]
  },
  {
   "cell_type": "code",
   "execution_count": 62,
   "metadata": {},
   "outputs": [
    {
     "data": {
      "image/png": "[encoded data removed]",
      "text/plain": [
       "<Figure size 432x288 with 1 Axes>"
      ]
     },
     "metadata": {
      "needs_background": "light"
     },
     "output_type": "display_data"
    },
    {
     "data": {
      "text/plain": [
       "array([[0.16869628],\n",
       "       [4.72359097]])"
      ]
     },
     "execution_count": 62,
     "metadata": {},
     "output_type": "execute_result"
    }
   ],
   "source": [
    "weights, rmse = LinearRegressor.fit(generated_data, iterations=50000, learning_rate=0.000001)\n",
    "weights"
   ]
  },
  {
   "cell_type": "markdown",
   "metadata": {},
   "source": [
    "Even though we try multiple times, it looks like this never really captures the correct y-intercept.  This seems to be largely because gradient descent is highly sensitive to starting values (and so, can get trapped in local minima; see for example, [this SO post](https://stackoverflow.com/questions/48688515/gradient-descent-algorithm-for-linear-regression-do-not-optmize-the-y-intercept)).  [The last answer](https://stackoverflow.com/a/48786574) in the SO post lists a strategy for picking the initial y-intercept parameter that seems to be much more successful."
   ]
  }
 ],
 "metadata": {
  "kernelspec": {
   "display_name": "Python 3",
   "language": "python",
   "name": "python3"
  },
  "language_info": {
   "codemirror_mode": {
    "name": "ipython",
    "version": 3
   },
   "file_extension": ".py",
   "mimetype": "text/x-python",
   "name": "python",
   "nbconvert_exporter": "python",
   "pygments_lexer": "ipython3",
   "version": "3.8.5"
  }
 },
 "nbformat": 4,
 "nbformat_minor": 4
}